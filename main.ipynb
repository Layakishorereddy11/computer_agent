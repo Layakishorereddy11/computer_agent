{
 "cells": [
  {
   "cell_type": "code",
   "execution_count": null,
   "metadata": {},
   "outputs": [],
   "source": [
    "from sandbox_agent import SandboxAgent\n",
    "from e2b_code_interpreter import Sandbox\n",
    "import os\n",
    "\n",
    "# Initialize E2B sandbox\n",
    "os.environ[\"E2B_API_KEY\"] = \"e2b_6a0388811e19010ba7270946f0c747ca076eb4c0\"\n",
    "sbx = Sandbox(\n",
    "    api_key=os.environ.get(\"E2B_API_KEY\"),\n",
    "    template=\"desktop\"\n",
    ")\n",
    "\n",
    "# Initialize SandboxAgent with the E2B sandbox\n",
    "agent = SandboxAgent(sbx, save_logs=True)\n",
    "\n",
    "# Configure models (assuming these are already set in os_computer_use.config)\n",
    "from config import vision_model, action_model, grounding_model\n",
    "from openai import OpenAI\n",
    "\n",
    "os.environ[\"GROQ_API_KEY\"] = \"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\"\n",
    "vision_model.client = OpenAI(\n",
    "    base_url=\"https://api.groq.com/openai/v1\",\n",
    "    api_key=os.environ.get(\"GROQ_API_KEY\")\n",
    ")\n",
    "vision_model.model_name = \"llama-3.2-90b-vision-preview\"\n",
    "\n",
    "# Main execution\n",
    "if __name__ == \"__main__\":\n",
    "    objective = \"Check the weather using the web browser\"\n",
    "    agent.run(objective)"
   ]
  },
  {
   "cell_type": "code",
   "execution_count": null,
   "metadata": {},
   "outputs": [],
   "source": []
  }
 ],
 "metadata": {
  "kernelspec": {
   "display_name": "base",
   "language": "python",
   "name": "python3"
  },
  "language_info": {
   "name": "python",
   "version": "3.11.4"
  }
 },
 "nbformat": 4,
 "nbformat_minor": 2
}
